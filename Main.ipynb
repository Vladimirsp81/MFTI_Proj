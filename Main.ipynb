{
 "nbformat": 4,
 "nbformat_minor": 2,
 "metadata": {
  "language_info": {
   "name": "python",
   "codemirror_mode": {
    "name": "ipython",
    "version": 3
   },
   "version": "3.7.4-final"
  },
  "orig_nbformat": 2,
  "file_extension": ".py",
  "mimetype": "text/x-python",
  "name": "python",
  "npconvert_exporter": "python",
  "pygments_lexer": "ipython3",
  "version": 3,
  "kernelspec": {
   "name": "python3",
   "display_name": "Python 3"
  }
 },
 "cells": [
  {
   "cell_type": "markdown",
   "execution_count": null,
   "metadata": {},
   "outputs": [],
   "source": [
    "Запускаем код ниже для клонирования репозитория"
   ]
  },
  {
   "cell_type": "code",
   "execution_count": 3,
   "metadata": {},
   "outputs": [
    {
     "name": "stderr",
     "output_type": "stream",
     "text": "Cloning into 'MFTI_Proj'...\n"
    }
   ],
   "source": [
    "!git clone https://github.com/Vladimirsp81/MFTI_Proj.git\n",
    "!cd MFTI_Proj"
   ]
  },
  {
   "cell_type": "markdown",
   "execution_count": null,
   "metadata": {},
   "outputs": [],
   "source": [
    "Запускаем утилиту для скачивания dataset'a edges2shoes"
   ]
  },
  {
   "cell_type": "code",
   "execution_count": 8,
   "metadata": {},
   "outputs": [],
   "source": [
    "!bash \"./MFTI_Proj/Utils/Download_data.sh\""
   ]
  },
  {
   "cell_type": "markdown",
   "execution_count": null,
   "metadata": {},
   "outputs": [],
   "source": [
    "Объявляем модель сети, определяем ее параметры и запускаем обучение"
   ]
  },
  {
   "cell_type": "code",
   "execution_count": null,
   "metadata": {},
   "outputs": [],
   "source": [
    "!bash python ./MFTI_Proj/pix2pix_Train.py --dataroot ./MFTI_Proj/datasets/edges2shoes --which_direction AtoB --num_epochs 15 --batchSize 4 --no_resize_or_crop --no_flip"
   ]
  },
  {
   "cell_type": "markdown",
   "execution_count": null,
   "metadata": {},
   "outputs": [],
   "source": [
    "После обучения запускаем тест нашей модели, в процессе которого будут сохранены изображения"
   ]
  },
  {
   "cell_type": "code",
   "execution_count": null,
   "metadata": {},
   "outputs": [],
   "source": [
    "!bash python ./MFTI_Proj/pix2pix_Test.py --dataroot ./MFTI_Proj/datasets/edges2shoes/ --which_direction AtoB --num_epochs 15 --batchSize 4 --no_resize_or_crop --no_flip"
   ]
  }
 ]
}